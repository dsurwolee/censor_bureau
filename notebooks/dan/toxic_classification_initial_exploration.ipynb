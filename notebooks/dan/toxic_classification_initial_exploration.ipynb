{
 "cells": [
  {
   "cell_type": "code",
   "execution_count": 5,
   "metadata": {},
   "outputs": [],
   "source": [
    "import numpy as np\n",
    "import pandas as pd \n",
    "import os \n",
    "\n",
    "path_to_raw = '/Users/daniellee/Desktop/Data/Datasets/toxic_comment/'\n",
    "data = pd.read_csv(path_to_raw + 'train.csv')"
   ]
  },
  {
   "cell_type": "code",
   "execution_count": 10,
   "metadata": {
    "scrolled": false
   },
   "outputs": [
    {
     "name": "stdout",
     "output_type": "stream",
     "text": [
      "new comment\n",
      "Nonsense?  kiss off, geek. what I said is true.  I'll have your account terminated.\n",
      "new comment\n",
      "\"\n",
      "\n",
      " Please do not vandalize pages, as you did with this edit to W. S. Merwin. If you continue to do so, you will be blocked from editing.    \"\n",
      "new comment\n",
      "\"\n",
      "\n",
      " \"\"Points of interest\"\" \n",
      "\n",
      "I removed the \"\"points of interest\"\" section you added because it seemed kind of spammy. I know you probably didn't mean to disobey the rules, but generally, a point of interest tends to be rather touristy, and quite irrelevant to an area culture. That's just my opinion, though.\n",
      "\n",
      "If you want to reply, just put your reply here and add {{talkback|Jamiegraham08}} on my talkpage.   \"\n",
      "new comment\n",
      "Asking some his nationality is a Racial offence. Wow wasn't aware of it.  Blocking me has shown your support towards your community. Thanku for that\n",
      "new comment\n",
      "The reader here is not going by my say so for ethereal vocal style and dark lyrical content. The cited sources in the External Links are saying those things. If you feel the sources are unreliable or I did not represent what they said correctly rewrite or delete it.\n",
      "new comment\n",
      "Fried chickens \n",
      "\n",
      "Is dat sum fried chickens?\n",
      "new comment\n",
      "Why can you put English for example on some players but others people don't like it - why?\n",
      "new comment\n",
      "Guy Fawkes \n",
      "\n",
      "im a resident in bridgwater and i go to the carnival every year, im wuite dedicated to the town and enjoy alot about it, However, i think you are wrong, although we are rebels i think that the carnvial is to celebrate Guy fawkes getting caught and therfor preventing it, why would you want to celebrate somebody theying to murder out majisty.\n",
      "new comment\n",
      "as far as nicknames go this article is embarrassing, Where is the Human fish, golden fish, flying fish, and the American super fish, among others? wiki should be ashamed for this mess of an article. ~Anonymous *and there I signed the post*\n",
      "new comment\n",
      "Woodland Meadows\n",
      "Good to hear that you corrected that.\n"
     ]
    }
   ],
   "source": [
    "for i in data['comment_text'][:10]:\n",
    "    print('new comment')\n",
    "    print(i)"
   ]
  },
  {
   "cell_type": "code",
   "execution_count": 15,
   "metadata": {},
   "outputs": [
    {
     "data": {
      "text/plain": [
       "toxic            9237\n",
       "severe_toxic      965\n",
       "obscene          5109\n",
       "threat            305\n",
       "insult           4765\n",
       "identity_hate     814\n",
       "dtype: int64"
      ]
     },
     "execution_count": 15,
     "metadata": {},
     "output_type": "execute_result"
    }
   ],
   "source": [
    "# Count of hate comments by types\n",
    "data.iloc[:,2:].sum()"
   ]
  },
  {
   "cell_type": "code",
   "execution_count": 28,
   "metadata": {},
   "outputs": [],
   "source": [
    "# Total number of hate comments \n",
    "data['flagged'] = data.iloc[:,2:8].apply(lambda x: sum(x), axis=1)"
   ]
  },
  {
   "cell_type": "code",
   "execution_count": 32,
   "metadata": {},
   "outputs": [
    {
     "data": {
      "text/plain": [
       "(9790, 9)"
      ]
     },
     "execution_count": 32,
     "metadata": {},
     "output_type": "execute_result"
    }
   ],
   "source": [
    "data[data['flagged'] >= 1].shape"
   ]
  },
  {
   "cell_type": "code",
   "execution_count": 33,
   "metadata": {},
   "outputs": [
    {
     "data": {
      "text/plain": [
       "0.10213769287748693"
      ]
     },
     "execution_count": 33,
     "metadata": {},
     "output_type": "execute_result"
    }
   ],
   "source": [
    "# Proportion\n",
    "9790 / data.shape[0]"
   ]
  },
  {
   "cell_type": "code",
   "execution_count": null,
   "metadata": {
    "collapsed": true
   },
   "outputs": [],
   "source": [
    "# "
   ]
  },
  {
   "cell_type": "code",
   "execution_count": null,
   "metadata": {
    "collapsed": true
   },
   "outputs": [],
   "source": []
  }
 ],
 "metadata": {
  "kernelspec": {
   "display_name": "Python 3",
   "language": "python",
   "name": "python3"
  },
  "language_info": {
   "codemirror_mode": {
    "name": "ipython",
    "version": 3
   },
   "file_extension": ".py",
   "mimetype": "text/x-python",
   "name": "python",
   "nbconvert_exporter": "python",
   "pygments_lexer": "ipython3",
   "version": "3.6.3"
  }
 },
 "nbformat": 4,
 "nbformat_minor": 2
}
